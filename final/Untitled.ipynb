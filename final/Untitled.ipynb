{
 "cells": [
  {
   "cell_type": "markdown",
   "metadata": {},
   "source": [
    "upload packages"
   ]
  },
  {
   "cell_type": "code",
   "execution_count": 1,
   "metadata": {},
   "outputs": [
    {
     "name": "stderr",
     "output_type": "stream",
     "text": [
      "Loading required package: AnnotationDbi\n",
      "Loading required package: stats4\n",
      "Loading required package: BiocGenerics\n",
      "Loading required package: parallel\n",
      "\n",
      "Attaching package: ‘BiocGenerics’\n",
      "\n",
      "The following objects are masked from ‘package:parallel’:\n",
      "\n",
      "    clusterApply, clusterApplyLB, clusterCall, clusterEvalQ,\n",
      "    clusterExport, clusterMap, parApply, parCapply, parLapply,\n",
      "    parLapplyLB, parRapply, parSapply, parSapplyLB\n",
      "\n",
      "The following objects are masked from ‘package:stats’:\n",
      "\n",
      "    IQR, mad, sd, var, xtabs\n",
      "\n",
      "The following objects are masked from ‘package:base’:\n",
      "\n",
      "    anyDuplicated, append, as.data.frame, basename, cbind, colnames,\n",
      "    dirname, do.call, duplicated, eval, evalq, Filter, Find, get, grep,\n",
      "    grepl, intersect, is.unsorted, lapply, Map, mapply, match, mget,\n",
      "    order, paste, pmax, pmax.int, pmin, pmin.int, Position, rank,\n",
      "    rbind, Reduce, rownames, sapply, setdiff, sort, table, tapply,\n",
      "    union, unique, unsplit, which, which.max, which.min\n",
      "\n",
      "Loading required package: Biobase\n",
      "Welcome to Bioconductor\n",
      "\n",
      "    Vignettes contain introductory material; view with\n",
      "    'browseVignettes()'. To cite Bioconductor, see\n",
      "    'citation(\"Biobase\")', and for packages 'citation(\"pkgname\")'.\n",
      "\n",
      "Loading required package: IRanges\n",
      "Loading required package: S4Vectors\n",
      "\n",
      "Attaching package: ‘S4Vectors’\n",
      "\n",
      "The following object is masked from ‘package:base’:\n",
      "\n",
      "    expand.grid\n",
      "\n",
      "\n",
      "Loading required package: GenomicRanges\n",
      "Loading required package: GenomeInfoDb\n",
      "Loading required package: SummarizedExperiment\n",
      "Loading required package: DelayedArray\n",
      "Loading required package: matrixStats\n",
      "\n",
      "Attaching package: ‘matrixStats’\n",
      "\n",
      "The following objects are masked from ‘package:Biobase’:\n",
      "\n",
      "    anyMissing, rowMedians\n",
      "\n",
      "Loading required package: BiocParallel\n",
      "\n",
      "Attaching package: ‘DelayedArray’\n",
      "\n",
      "The following objects are masked from ‘package:matrixStats’:\n",
      "\n",
      "    colMaxs, colMins, colRanges, rowMaxs, rowMins, rowRanges\n",
      "\n",
      "The following objects are masked from ‘package:base’:\n",
      "\n",
      "    aperm, apply, rowsum\n",
      "\n"
     ]
    }
   ],
   "source": [
    "library(readr)\n",
    "library(org.Hs.eg.db)\n",
    "library(\"vsn\")\n",
    "library(DESeq2)"
   ]
  },
  {
   "cell_type": "markdown",
   "metadata": {},
   "source": [
    "load the mRNA-Seq data "
   ]
  },
  {
   "cell_type": "code",
   "execution_count": 2,
   "metadata": {},
   "outputs": [],
   "source": [
    "data.path=\"RNA\"\n",
    "files <- list.files(path=data.path,recursive=T, pattern = \"gz\")"
   ]
  },
  {
   "cell_type": "markdown",
   "metadata": {},
   "source": [
    "read the first file for the first time"
   ]
  },
  {
   "cell_type": "code",
   "execution_count": 3,
   "metadata": {},
   "outputs": [],
   "source": [
    "file=files[1]\n",
    "file.id=strsplit(file,\"/\")[[1]][1]"
   ]
  },
  {
   "cell_type": "markdown",
   "metadata": {},
   "source": [
    "open a connection to your gz file and read the file"
   ]
  },
  {
   "cell_type": "code",
   "execution_count": 4,
   "metadata": {},
   "outputs": [],
   "source": [
    "gz.con=gzfile(file.path(data.path,files[1]))\n",
    "temp <- read.table(gz.con, header=F)"
   ]
  },
  {
   "cell_type": "markdown",
   "metadata": {},
   "source": [
    "create a storing object mrna.exp to save the whole read counts of each file read in an iteration"
   ]
  },
  {
   "cell_type": "code",
   "execution_count": 5,
   "metadata": {},
   "outputs": [],
   "source": [
    "mrna.exp=temp\n",
    "rownames(mrna.exp)=mrna.exp[,1]\n",
    "mrna.exp=mrna.exp[-1]\n",
    "colnames(mrna.exp)=c(file.id)"
   ]
  },
  {
   "cell_type": "markdown",
   "metadata": {},
   "source": [
    "loop for reading other files"
   ]
  },
  {
   "cell_type": "code",
   "execution_count": 6,
   "metadata": {},
   "outputs": [
    {
     "name": "stderr",
     "output_type": "stream",
     "text": [
      "IOPub data rate exceeded.\n",
      "The notebook server will temporarily stop sending output\n",
      "to the client in order to avoid crashing it.\n",
      "To change this limit, set the config variable\n",
      "`--NotebookApp.iopub_data_rate_limit`.\n",
      "\n",
      "Current values:\n",
      "NotebookApp.iopub_data_rate_limit=1000000.0 (bytes/sec)\n",
      "NotebookApp.rate_limit_window=3.0 (secs)\n",
      "\n"
     ]
    }
   ],
   "source": [
    "for(i in 2: length(files))\n",
    "  {\n",
    "    \n",
    "    ## refer to the next file (note that we start from index 2, bec we already read the first file)\n",
    "    file=files[i]\n",
    "    file.id=strsplit(file,\"/\")[[1]][1]\n",
    "  \n",
    "    # read the next file  \n",
    "    gz.con=gzfile(file.path(data.path,files[i]))\n",
    "    temp <- read.table(gz.con, header=F)\n",
    "    \n",
    "    ## remove the first column, bec we had it already\n",
    "    temp=temp[-1]\n",
    "    colnames(temp)=c(file.id)\n",
    "    \n",
    "    mrna.exp=cbind(mrna.exp,temp)\n",
    "  }\n",
    "print(mrna.exp)"
   ]
  },
  {
   "cell_type": "markdown",
   "metadata": {},
   "source": [
    "do the mapping of ensembel.id to gene symbol and their adjustment\n"
   ]
  },
  {
   "cell_type": "code",
   "execution_count": 7,
   "metadata": {},
   "outputs": [
    {
     "ename": "ERROR",
     "evalue": "Error in View(ensemble.id): ‘View()’ not yet supported in the Jupyter R kernel\n",
     "output_type": "error",
     "traceback": [
      "Error in View(ensemble.id): ‘View()’ not yet supported in the Jupyter R kernel\nTraceback:\n",
      "1. View(ensemble.id)",
      "2. stop(sQuote(\"View()\"), \" not yet supported in the Jupyter R kernel\")"
     ]
    }
   ],
   "source": [
    "#prepare the ensembel id to be like the one in the database\n",
    "ensemble.id=sapply(rownames(mrna.exp), function(x) strsplit(as.character(x),\"\\\\.\")[[1]][1])\n",
    "View(ensemble.id)\n",
    "mrna.exp=cbind(ensemble.id,mrna.exp)\n",
    "\n",
    "mapper<- mapIds(org.Hs.eg.db, keys=ensemble.id, column=\"SYMBOL\",keytype=\"ENSEMBL\", multiVals=\"first\") #??????\n",
    "mapper.df=as.data.frame(mapper)\n",
    "\n",
    "mapper.df=cbind(rownames(mapper.df), mapper.df)\n",
    "names(mapper.df)=c(\"ensemble.id\",\"symbol\")\n",
    "                   \n",
    "# prepare the ensembel id to be like the one in the database\n",
    "ensemble.id=sapply(rownames(mrna.exp), function(x) strsplit(as.character(x),\"\\\\.\")[[1]][1])\n",
    "View(ensemble.id)\n",
    "mrna.exp=cbind(ensemble.id,mrna.exp)\n",
    "\n",
    "mapper<- mapIds(org.Hs.eg.db, keys=ensemble.id, column=\"SYMBOL\",keytype=\"ENSEMBL\", multiVals=\"first\") #??????\n",
    "mapper.df=as.data.frame(mapper)\n",
    "\n",
    "mapper.df=cbind(rownames(mapper.df), mapper.df)\n",
    "names(mapper.df)=c(\"ensemble.id\",\"symbol\")\n",
    "\n",
    "\n",
    "mrna.exp2=merge(mrna.exp,mapper.df,by=\"ensemble.id\",all.x=T) #????? ensembl.id of y\n",
    "# drop the first column (ensemble.id)\n",
    "mrna.exp2=mrna.exp2[-1]\n",
    "\n",
    "mrna.exp2=mrna.exp2[ ! is.na(mrna.exp2$symbol),]\n",
    "\n",
    "# check duplciation of of gene symbols?  \n",
    "x=duplicated(mrna.exp2$symbol)  \n",
    "sum(x)\n",
    "\n",
    "### yes .. why ? transcripts?  solutions : aggregation\n",
    "mrna.exp.data=mrna.exp2[-dim(mrna.exp2)[2]]\n",
    "mrna.exp.data=apply(mrna.exp.data,2, as.numeric)\n",
    "\n",
    "####remove  duplication by aggregation\n",
    "mrna.exp.data.agg= aggregate(mrna.exp.data, list(mrna.exp2$symbol),FUN=mean)\n",
    "\n",
    "rownames(mrna.exp.data.agg)=mrna.exp.data.agg$Group.1\n",
    "mrna.exp.data.agg=mrna.exp.data.agg[-1]\n",
    "\n",
    "file.ids=colnames(mrna.exp.data.agg)\n"
   ]
  },
  {
   "cell_type": "markdown",
   "metadata": {},
   "source": [
    "load the mrna sample sheets"
   ]
  },
  {
   "cell_type": "code",
   "execution_count": 9,
   "metadata": {},
   "outputs": [
    {
     "name": "stderr",
     "output_type": "stream",
     "text": [
      "Parsed with column specification:\n",
      "cols(\n",
      "  File.ID = \u001b[31mcol_character()\u001b[39m,\n",
      "  File.Name = \u001b[31mcol_character()\u001b[39m,\n",
      "  Data.Category = \u001b[31mcol_character()\u001b[39m,\n",
      "  Data.Type = \u001b[31mcol_character()\u001b[39m,\n",
      "  Project.ID = \u001b[31mcol_character()\u001b[39m,\n",
      "  Case.ID = \u001b[31mcol_character()\u001b[39m,\n",
      "  Sample.ID = \u001b[31mcol_character()\u001b[39m,\n",
      "  Sample.Type = \u001b[31mcol_character()\u001b[39m\n",
      ")\n"
     ]
    },
    {
     "name": "stdout",
     "output_type": "stream",
     "text": [
      "\u001b[38;5;246m# A tibble: 551 x 8\u001b[39m\n",
      "   File.ID File.Name Data.Category Data.Type Project.ID Case.ID Sample.ID\n",
      "   \u001b[3m\u001b[38;5;246m<chr>\u001b[39m\u001b[23m   \u001b[3m\u001b[38;5;246m<chr>\u001b[39m\u001b[23m     \u001b[3m\u001b[38;5;246m<chr>\u001b[39m\u001b[23m         \u001b[3m\u001b[38;5;246m<chr>\u001b[39m\u001b[23m     \u001b[3m\u001b[38;5;246m<chr>\u001b[39m\u001b[23m      \u001b[3m\u001b[38;5;246m<chr>\u001b[39m\u001b[23m   \u001b[3m\u001b[38;5;246m<chr>\u001b[39m\u001b[23m    \n",
      "\u001b[38;5;250m 1\u001b[39m cbb56e… 5a7f277a… Transcriptom… Gene Exp… TCGA-LUSC  TCGA-6… TCGA-66-…\n",
      "\u001b[38;5;250m 2\u001b[39m d0d1b0… 94b65d9b… Transcriptom… Gene Exp… TCGA-LUSC  TCGA-2… TCGA-22-…\n",
      "\u001b[38;5;250m 3\u001b[39m 98e317… 9ef0c6dd… Transcriptom… Gene Exp… TCGA-LUSC  TCGA-8… TCGA-85-…\n",
      "\u001b[38;5;250m 4\u001b[39m 574abc… 00068002… Transcriptom… Gene Exp… TCGA-LUSC  TCGA-5… TCGA-56-…\n",
      "\u001b[38;5;250m 5\u001b[39m 0e18c3… 01444ada… Transcriptom… Gene Exp… TCGA-LUSC  TCGA-7… TCGA-77-…\n",
      "\u001b[38;5;250m 6\u001b[39m 58c0f4… 88cf0020… Transcriptom… Gene Exp… TCGA-LUSC  TCGA-7… TCGA-77-…\n",
      "\u001b[38;5;250m 7\u001b[39m 4b6076… 9813b5d6… Transcriptom… Gene Exp… TCGA-LUSC  TCGA-6… TCGA-60-…\n",
      "\u001b[38;5;250m 8\u001b[39m 92ab7a… 71550bf2… Transcriptom… Gene Exp… TCGA-LUSC  TCGA-3… TCGA-33-…\n",
      "\u001b[38;5;250m 9\u001b[39m 220a03… 60040f95… Transcriptom… Gene Exp… TCGA-LUSC  TCGA-1… TCGA-18-…\n",
      "\u001b[38;5;250m10\u001b[39m 5c3dd6… 60a2aca4… Transcriptom… Gene Exp… TCGA-LUSC  TCGA-4… TCGA-43-…\n",
      "\u001b[38;5;246m# … with 541 more rows, and 1 more variable: Sample.Type \u001b[3m\u001b[38;5;246m<chr>\u001b[38;5;246m\u001b[23m\u001b[39m\n"
     ]
    }
   ],
   "source": [
    "pheno <- read_delim(\"RNA.tsv\", \"\\t\", escape_double = FALSE, trim_ws = TRUE)\n",
    "print(pheno)"
   ]
  },
  {
   "cell_type": "markdown",
   "metadata": {},
   "source": [
    "#we will rename the columns of our exp data with the sample ids columns of the pheno file\n",
    "however we need to match the file ids to "
   ]
  },
  {
   "cell_type": "code",
   "execution_count": null,
   "metadata": {},
   "outputs": [],
   "source": []
  },
  {
   "cell_type": "code",
   "execution_count": 10,
   "metadata": {},
   "outputs": [
    {
     "ename": "ERROR",
     "evalue": "Error in match(file.ids, file.ids.pheno): object 'file.ids' not found\n",
     "output_type": "error",
     "traceback": [
      "Error in match(file.ids, file.ids.pheno): object 'file.ids' not found\nTraceback:\n",
      "1. match(file.ids, file.ids.pheno)"
     ]
    }
   ],
   "source": [
    "file.ids.pheno=pheno$File.ID\n",
    "index.files=match(file.ids,file.ids.pheno)\n",
    "names(mrna.exp.data.agg)=pheno$Sample.ID[index.files]"
   ]
  },
  {
   "cell_type": "code",
   "execution_count": null,
   "metadata": {},
   "outputs": [],
   "source": []
  },
  {
   "cell_type": "code",
   "execution_count": null,
   "metadata": {},
   "outputs": [],
   "source": []
  },
  {
   "cell_type": "code",
   "execution_count": null,
   "metadata": {},
   "outputs": [],
   "source": []
  },
  {
   "cell_type": "code",
   "execution_count": null,
   "metadata": {},
   "outputs": [],
   "source": []
  },
  {
   "cell_type": "code",
   "execution_count": null,
   "metadata": {},
   "outputs": [],
   "source": []
  },
  {
   "cell_type": "code",
   "execution_count": null,
   "metadata": {},
   "outputs": [],
   "source": []
  }
 ],
 "metadata": {
  "kernelspec": {
   "display_name": "R",
   "language": "R",
   "name": "ir"
  },
  "language_info": {
   "codemirror_mode": "r",
   "file_extension": ".r",
   "mimetype": "text/x-r-source",
   "name": "R",
   "pygments_lexer": "r",
   "version": "3.6.2"
  }
 },
 "nbformat": 4,
 "nbformat_minor": 2
}
