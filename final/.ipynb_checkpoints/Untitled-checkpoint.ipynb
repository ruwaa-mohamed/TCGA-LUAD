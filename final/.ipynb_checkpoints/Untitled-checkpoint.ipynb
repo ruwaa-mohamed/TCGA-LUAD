{
 "cells": [
  {
   "cell_type": "markdown",
   "metadata": {},
   "source": [
    "upload packages"
   ]
  },
  {
   "cell_type": "code",
   "execution_count": 1,
   "metadata": {},
   "outputs": [
    {
     "name": "stderr",
     "output_type": "stream",
     "text": [
      "Loading required package: AnnotationDbi\n",
      "Loading required package: stats4\n",
      "Loading required package: BiocGenerics\n",
      "Loading required package: parallel\n",
      "\n",
      "Attaching package: 'BiocGenerics'\n",
      "\n",
      "The following objects are masked from 'package:parallel':\n",
      "\n",
      "    clusterApply, clusterApplyLB, clusterCall, clusterEvalQ,\n",
      "    clusterExport, clusterMap, parApply, parCapply, parLapply,\n",
      "    parLapplyLB, parRapply, parSapply, parSapplyLB\n",
      "\n",
      "The following objects are masked from 'package:stats':\n",
      "\n",
      "    IQR, mad, sd, var, xtabs\n",
      "\n",
      "The following objects are masked from 'package:base':\n",
      "\n",
      "    anyDuplicated, append, as.data.frame, basename, cbind, colnames,\n",
      "    dirname, do.call, duplicated, eval, evalq, Filter, Find, get, grep,\n",
      "    grepl, intersect, is.unsorted, lapply, Map, mapply, match, mget,\n",
      "    order, paste, pmax, pmax.int, pmin, pmin.int, Position, rank,\n",
      "    rbind, Reduce, rownames, sapply, setdiff, sort, table, tapply,\n",
      "    union, unique, unsplit, which, which.max, which.min\n",
      "\n",
      "Loading required package: Biobase\n",
      "Welcome to Bioconductor\n",
      "\n",
      "    Vignettes contain introductory material; view with\n",
      "    'browseVignettes()'. To cite Bioconductor, see\n",
      "    'citation(\"Biobase\")', and for packages 'citation(\"pkgname\")'.\n",
      "\n",
      "Loading required package: IRanges\n",
      "Loading required package: S4Vectors\n",
      "\n",
      "Attaching package: 'S4Vectors'\n",
      "\n",
      "The following object is masked from 'package:base':\n",
      "\n",
      "    expand.grid\n",
      "\n",
      "\n",
      "Attaching package: 'IRanges'\n",
      "\n",
      "The following object is masked from 'package:grDevices':\n",
      "\n",
      "    windows\n",
      "\n",
      "\n",
      "Loading required package: GenomicRanges\n",
      "Loading required package: GenomeInfoDb\n",
      "Loading required package: SummarizedExperiment\n",
      "Warning message:\n",
      "\"package 'SummarizedExperiment' was built under R version 3.6.2\"Loading required package: DelayedArray\n",
      "Loading required package: matrixStats\n",
      "\n",
      "Attaching package: 'matrixStats'\n",
      "\n",
      "The following objects are masked from 'package:Biobase':\n",
      "\n",
      "    anyMissing, rowMedians\n",
      "\n",
      "Loading required package: BiocParallel\n",
      "Warning message:\n",
      "\"package 'BiocParallel' was built under R version 3.6.2\"\n",
      "Attaching package: 'DelayedArray'\n",
      "\n",
      "The following objects are masked from 'package:matrixStats':\n",
      "\n",
      "    colMaxs, colMins, colRanges, rowMaxs, rowMins, rowRanges\n",
      "\n",
      "The following objects are masked from 'package:base':\n",
      "\n",
      "    aperm, apply, rowsum\n",
      "\n"
     ]
    }
   ],
   "source": [
    "library(readr)\n",
    "library(org.Hs.eg.db)\n",
    "library(\"vsn\")\n",
    "library(DESeq2)"
   ]
  },
  {
   "cell_type": "markdown",
   "metadata": {},
   "source": [
    "load the mRNA-Seq data "
   ]
  },
  {
   "cell_type": "code",
   "execution_count": 2,
   "metadata": {},
   "outputs": [],
   "source": [
    "data.path=\"RNA\"\n",
    "files <- list.files(path=data.path,recursive=T, pattern = \"gz\")"
   ]
  },
  {
   "cell_type": "markdown",
   "metadata": {},
   "source": [
    "read the first file for the first time"
   ]
  },
  {
   "cell_type": "code",
   "execution_count": 3,
   "metadata": {},
   "outputs": [],
   "source": [
    "file=files[1]\n",
    "file.id=strsplit(file,\"/\")[[1]][1]"
   ]
  },
  {
   "cell_type": "markdown",
   "metadata": {},
   "source": [
    "open a connection to your gz file and read the file"
   ]
  },
  {
   "cell_type": "code",
   "execution_count": 4,
   "metadata": {},
   "outputs": [],
   "source": [
    "gz.con=gzfile(file.path(data.path,files[1]))\n",
    "temp <- read.table(gz.con, header=F)"
   ]
  },
  {
   "cell_type": "markdown",
   "metadata": {},
   "source": [
    "create a storing object mrna.exp to save the whole read counts of each file read in an iteration"
   ]
  },
  {
   "cell_type": "code",
   "execution_count": 5,
   "metadata": {},
   "outputs": [],
   "source": [
    "mrna.exp=temp\n",
    "rownames(mrna.exp)=mrna.exp[,1]\n",
    "mrna.exp=mrna.exp[-1]\n",
    "colnames(mrna.exp)=c(file.id)"
   ]
  },
  {
   "cell_type": "markdown",
   "metadata": {},
   "source": [
    "loop for reading other files"
   ]
  },
  {
   "cell_type": "code",
   "execution_count": null,
   "metadata": {},
   "outputs": [],
   "source": [
    "for(i in 2: length(files))\n",
    "  {\n",
    "    \n",
    "    ## refer to the next file (note that we start from index 2, bec we already read the first file)\n",
    "    file=files[i]\n",
    "    file.id=strsplit(file,\"/\")[[1]][1]\n",
    "  \n",
    "    # read the next file  \n",
    "    gz.con=gzfile(file.path(data.path,files[i]))\n",
    "    temp <- read.table(gz.con, header=F)\n",
    "    \n",
    "    ## remove the first column, bec we had it already\n",
    "    temp=temp[-1]\n",
    "    colnames(temp)=c(file.id)\n",
    "    \n",
    "    mrna.exp=cbind(mrna.exp,temp)\n",
    "  }\n",
    "print(mrna.exp)"
   ]
  },
  {
   "cell_type": "markdown",
   "metadata": {},
   "source": [
    "do the mapping of ensembel.id to gene symbol and their adjustment\n"
   ]
  },
  {
   "cell_type": "code",
   "execution_count": null,
   "metadata": {},
   "outputs": [],
   "source": [
    "#prepare the ensembel id to be like the one in the database\n",
    "ensemble.id=sapply(rownames(mrna.exp), function(x) strsplit(as.character(x),\"\\\\.\")[[1]][1])\n",
    "View(ensemble.id)\n",
    "mrna.exp=cbind(ensemble.id,mrna.exp)\n",
    "\n",
    "mapper<- mapIds(org.Hs.eg.db, keys=ensemble.id, column=\"SYMBOL\",keytype=\"ENSEMBL\", multiVals=\"first\") #??????\n",
    "mapper.df=as.data.frame(mapper)\n",
    "\n",
    "mapper.df=cbind(rownames(mapper.df), mapper.df)\n",
    "names(mapper.df)=c(\"ensemble.id\",\"symbol\")\n",
    "                   \n",
    "# prepare the ensembel id to be like the one in the database\n",
    "ensemble.id=sapply(rownames(mrna.exp), function(x) strsplit(as.character(x),\"\\\\.\")[[1]][1])\n",
    "View(ensemble.id)\n",
    "mrna.exp=cbind(ensemble.id,mrna.exp)\n",
    "\n",
    "mapper<- mapIds(org.Hs.eg.db, keys=ensemble.id, column=\"SYMBOL\",keytype=\"ENSEMBL\", multiVals=\"first\") #??????\n",
    "mapper.df=as.data.frame(mapper)\n",
    "\n",
    "mapper.df=cbind(rownames(mapper.df), mapper.df)\n",
    "names(mapper.df)=c(\"ensemble.id\",\"symbol\")\n",
    "\n",
    "\n",
    "mrna.exp2=merge(mrna.exp,mapper.df,by=\"ensemble.id\",all.x=T) #????? ensembl.id of y\n",
    "# drop the first column (ensemble.id)\n",
    "mrna.exp2=mrna.exp2[-1]\n",
    "\n",
    "mrna.exp2=mrna.exp2[ ! is.na(mrna.exp2$symbol),]\n",
    "\n",
    "# check duplciation of of gene symbols?  \n",
    "x=duplicated(mrna.exp2$symbol)  \n",
    "sum(x)\n",
    "\n",
    "### yes .. why ? transcripts?  solutions : aggregation\n",
    "mrna.exp.data=mrna.exp2[-dim(mrna.exp2)[2]]\n",
    "mrna.exp.data=apply(mrna.exp.data,2, as.numeric)\n",
    "\n",
    "####remove  duplication by aggregation\n",
    "mrna.exp.data.agg= aggregate(mrna.exp.data, list(mrna.exp2$symbol),FUN=mean)\n",
    "\n",
    "rownames(mrna.exp.data.agg)=mrna.exp.data.agg$Group.1\n",
    "mrna.exp.data.agg=mrna.exp.data.agg[-1]\n",
    "\n",
    "file.ids=colnames(mrna.exp.data.agg)\n"
   ]
  },
  {
   "cell_type": "markdown",
   "metadata": {},
   "source": [
    "load the mrna sample sheets"
   ]
  },
  {
   "cell_type": "code",
   "execution_count": null,
   "metadata": {},
   "outputs": [],
   "source": [
    "pheno <- read_delim(\"RNA.tsv\", \"\\t\", escape_double = FALSE, trim_ws = TRUE)\n",
    "View(pheno)"
   ]
  },
  {
   "cell_type": "markdown",
   "metadata": {},
   "source": [
    "#we will rename the columns of our exp data with the sample ids columns of the pheno file\n",
    "however we need to match the file ids to "
   ]
  },
  {
   "cell_type": "code",
   "execution_count": null,
   "metadata": {},
   "outputs": [],
   "source": []
  },
  {
   "cell_type": "code",
   "execution_count": null,
   "metadata": {},
   "outputs": [],
   "source": [
    "file.ids.pheno=pheno$File.ID\n",
    "index.files=match(file.ids,file.ids.pheno)\n",
    "names(mrna.exp.data.agg)=pheno$Sample.ID[index.files]"
   ]
  },
  {
   "cell_type": "code",
   "execution_count": null,
   "metadata": {},
   "outputs": [],
   "source": []
  },
  {
   "cell_type": "code",
   "execution_count": null,
   "metadata": {},
   "outputs": [],
   "source": []
  },
  {
   "cell_type": "code",
   "execution_count": null,
   "metadata": {},
   "outputs": [],
   "source": []
  },
  {
   "cell_type": "code",
   "execution_count": null,
   "metadata": {},
   "outputs": [],
   "source": []
  },
  {
   "cell_type": "code",
   "execution_count": null,
   "metadata": {},
   "outputs": [],
   "source": []
  },
  {
   "cell_type": "code",
   "execution_count": null,
   "metadata": {},
   "outputs": [],
   "source": []
  }
 ],
 "metadata": {
  "kernelspec": {
   "display_name": "R",
   "language": "R",
   "name": "ir"
  },
  "language_info": {
   "codemirror_mode": "r",
   "file_extension": ".r",
   "mimetype": "text/x-r-source",
   "name": "R",
   "pygments_lexer": "r",
   "version": "3.6.1"
  }
 },
 "nbformat": 4,
 "nbformat_minor": 2
}
