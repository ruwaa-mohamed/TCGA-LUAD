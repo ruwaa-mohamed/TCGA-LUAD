{
 "cells": [
  {
   "cell_type": "markdown",
   "metadata": {},
   "source": [
    "# <center>TCGA-LUAD</center>"
   ]
  },
  {
   "cell_type": "markdown",
   "metadata": {},
   "source": [
    "## Abstract "
   ]
  },
  {
   "cell_type": "markdown",
   "metadata": {},
   "source": [
    "## Main Code"
   ]
  },
  {
   "cell_type": "code",
   "execution_count": 1,
   "metadata": {},
   "outputs": [],
   "source": [
    "# Importing Required Libraries\n",
    "import pandas as pd\n",
    "import matplotlib.pyplot as plt\n",
    "%matplotlib inline\n",
    "from sklearn.model_selection import train_test_split, GridSearchCV\n",
    "from sklearn.metrics import classification_report, confusion_matrix, accuracy_score\n",
    "from sklearn.decomposition import PCA\n",
    "\n",
    "# models tried\n",
    "from sklearn.svm import SVC\n",
    "from sklearn.discriminant_analysis import LinearDiscriminantAnalysis\n",
    "from sklearn.linear_model import LogisticRegression\n",
    "from sklearn.naive_bayes import GaussianNB\n",
    "from sklearn.tree import DecisionTreeClassifier, plot_tree\n",
    "from sklearn.linear_model import Perceptron"
   ]
  },
  {
   "cell_type": "code",
   "execution_count": 2,
   "metadata": {},
   "outputs": [],
   "source": [
    "# Opening the dataset\n",
    "df = pd.read_table(\"processed_squamous.txt\", sep=\" \")\n",
    "y = df.label\n",
    "X = df.drop('label', axis=1) #iloc[:,list(range(df.shape[1]-1))]\n",
    "# features in columns and samples in rows."
   ]
  },
  {
   "cell_type": "code",
   "execution_count": 3,
   "metadata": {},
   "outputs": [
    {
     "name": "stdout",
     "output_type": "stream",
     "text": [
      "(551, 917)\n",
      "(551, 916)\n",
      "(551,)\n"
     ]
    },
    {
     "data": {
      "text/plain": [
       "count       551\n",
       "unique        2\n",
       "top       tumor\n",
       "freq        502\n",
       "Name: label, dtype: object"
      ]
     },
     "execution_count": 3,
     "metadata": {},
     "output_type": "execute_result"
    }
   ],
   "source": [
    "print(df.shape)\n",
    "print(X.shape)\n",
    "print(y.shape)\n",
    "y.describe()"
   ]
  },
  {
   "cell_type": "code",
   "execution_count": 4,
   "metadata": {},
   "outputs": [
    {
     "name": "stdout",
     "output_type": "stream",
     "text": [
      "(440, 916)\n",
      "(440,)\n",
      "(111, 916)\n",
      "(111,)\n"
     ]
    }
   ],
   "source": [
    "# splitting the dataset\n",
    "X_train, X_test, y_train, y_test = train_test_split(X, y, test_size=0.20, random_state=42)\n",
    "print(X_train.shape)\n",
    "print(y_train.shape)\n",
    "print(X_test.shape)\n",
    "print(y_test.shape)\n"
   ]
  },
  {
   "cell_type": "code",
   "execution_count": 5,
   "metadata": {
    "scrolled": true
   },
   "outputs": [
    {
     "data": {
      "image/png": "[encoded data removed]",
      "text/plain": [
       "<Figure size 432x288 with 1 Axes>"
      ]
     },
     "metadata": {
      "needs_background": "light"
     },
     "output_type": "display_data"
    }
   ],
   "source": [
    "pca = PCA(n_components=2)\n",
    "X_pca = pca.fit_transform(X)\n",
    "# plt.scatter(X_pca[:,0],X_pca[:,1])\n",
    "\n",
    "df2 = pd.DataFrame(dict(x=X_pca[:,0], y=X_pca[:,1], label=y))\n",
    "\n",
    "groups = df2.groupby('label')\n",
    "\n",
    "# Plot\n",
    "fig, ax = plt.subplots()\n",
    "ax.margins(0.05)\n",
    "for name, group in groups:\n",
    "    ax.plot(group.x, group.y, marker='.', linestyle='', ms=12, label=name)\n",
    "ax.legend()\n",
    "plt.title('Dimesionality Reduction of 916 DEGs to 2 DEGs using PCA')\n",
    "plt.xlabel('PCA1')\n",
    "plt.ylabel('PCA2')\n",
    "\n",
    "plt.show()"
   ]
  },
  {
   "cell_type": "code",
   "execution_count": 25,
   "metadata": {},
   "outputs": [],
   "source": [
    "def try_model(model):\n",
    "    clf_model = model\n",
    "    clf_model.fit(X_train, y_train)\n",
    "    y_pred = clf_model.predict(X_test)\n",
    "#     print('Model:', str(model).split('(')[0])\n",
    "#     print('Model parameters:', str(model))\n",
    "#     print('confusion matrix', confusion_matrix(y_test,y_pred), sep='\\n')\n",
    "#     print(classification_report(y_test,y_pred))\n",
    "#     print('accuracy score =', accuracy_score(y_test,y_pred))\n",
    "#     print()\n",
    "    return (str(model).split('(')[0], accuracy_score(y_test,y_pred))"
   ]
  },
  {
   "cell_type": "markdown",
   "metadata": {},
   "source": [
    "### Model #1: SVM"
   ]
  },
  {
   "cell_type": "code",
   "execution_count": 7,
   "metadata": {},
   "outputs": [
    {
     "name": "stdout",
     "output_type": "stream",
     "text": [
      "[[ 10   0]\n",
      " [  1 100]]\n",
      "              precision    recall  f1-score   support\n",
      "\n",
      "      Normal       0.91      1.00      0.95        10\n",
      "       tumor       1.00      0.99      1.00       101\n",
      "\n",
      "    accuracy                           0.99       111\n",
      "   macro avg       0.95      1.00      0.97       111\n",
      "weighted avg       0.99      0.99      0.99       111\n",
      "\n",
      "0.990990990990991\n"
     ]
    }
   ],
   "source": [
    "# SVM model (building the model [Linear])\n",
    "svclassifier = SVC(kernel='linear')\n",
    "svclassifier.fit(X_train, y_train)\n",
    "# testing the model\n",
    "y_pred = svclassifier.predict(X_test)\n",
    "print(confusion_matrix(y_test,y_pred))\n",
    "print(classification_report(y_test,y_pred))\n",
    "print(accuracy_score(y_test,y_pred))"
   ]
  },
  {
   "cell_type": "code",
   "execution_count": 8,
   "metadata": {},
   "outputs": [
    {
     "name": "stdout",
     "output_type": "stream",
     "text": [
      "{'C': 1, 'gamma': 0.001, 'kernel': 'rbf'}\n",
      "\n",
      "SVC(C=1, break_ties=False, cache_size=200, class_weight=None, coef0=0.0,\n",
      "    decision_function_shape='ovr', degree=3, gamma=0.001, kernel='rbf',\n",
      "    max_iter=-1, probability=False, random_state=None, shrinking=True,\n",
      "    tol=0.001, verbose=False)\n",
      "[[  8   2]\n",
      " [  1 100]]\n",
      "              precision    recall  f1-score   support\n",
      "\n",
      "      Normal       0.89      0.80      0.84        10\n",
      "       tumor       0.98      0.99      0.99       101\n",
      "\n",
      "    accuracy                           0.97       111\n",
      "   macro avg       0.93      0.90      0.91       111\n",
      "weighted avg       0.97      0.97      0.97       111\n",
      "\n",
      "0.972972972972973\n"
     ]
    }
   ],
   "source": [
    "# GridSearch\n",
    "parameters = {'C': [0.1, 1, 10, 100, 1000], \n",
    "              'gamma': [1, 0.1, 0.01, 0.001, 0.0001], \n",
    "              'kernel': ['linear', 'poly', 'rbf', 'sigmoid']} \n",
    "# {'kernel':('linear', 'rbf'), 'C':[1, 10]}\n",
    "\n",
    "grid = GridSearchCV(svclassifier, parameters)\n",
    "grid.fit(X_train, y_train)\n",
    "print(grid.best_params_)\n",
    "print()\n",
    "print(grid.best_estimator_) \n",
    "y_pred_2 = grid.predict(X_test)\n",
    "print(confusion_matrix(y_test,y_pred_2))\n",
    "print(classification_report(y_test,y_pred_2))\n",
    "print(accuracy_score(y_test,y_pred_2))"
   ]
  },
  {
   "cell_type": "code",
   "execution_count": 9,
   "metadata": {},
   "outputs": [
    {
     "data": {
      "image/png": "[encoded data removed]",
      "text/plain": [
       "<Figure size 432x288 with 1 Axes>"
      ]
     },
     "metadata": {
      "needs_background": "light"
     },
     "output_type": "display_data"
    }
   ],
   "source": [
    "# No. of features vs. accuracy\n",
    "acc_list = []\n",
    "for i in range(1, df.shape[1]-1):\n",
    "    X = df.iloc[:,list(range(i))]\n",
    "    X_train, X_test, y_train, y_test = train_test_split(X, y, test_size=0.20, random_state=42)\n",
    "    svc = SVC(kernel='linear')\n",
    "    svc.fit(X_train, y_train)\n",
    "    y_pred = svc.predict(X_test)\n",
    "    acc_list.append(accuracy_score(y_test,y_pred))\n",
    "    \n",
    "plt.plot(acc_list)\n",
    "plt.show()"
   ]
  },
  {
   "cell_type": "markdown",
   "metadata": {},
   "source": [
    "### Model #2: Linear Discriminant Analysis"
   ]
  },
  {
   "cell_type": "code",
   "execution_count": 10,
   "metadata": {},
   "outputs": [
    {
     "name": "stdout",
     "output_type": "stream",
     "text": [
      "[[ 9  1]\n",
      " [ 2 99]]\n",
      "              precision    recall  f1-score   support\n",
      "\n",
      "      Normal       0.82      0.90      0.86        10\n",
      "       tumor       0.99      0.98      0.99       101\n",
      "\n",
      "    accuracy                           0.97       111\n",
      "   macro avg       0.90      0.94      0.92       111\n",
      "weighted avg       0.97      0.97      0.97       111\n",
      "\n",
      "0.972972972972973\n",
      "\n",
      "{'solver': 'svd'}\n",
      "\n",
      "LinearDiscriminantAnalysis(n_components=None, priors=None, shrinkage=None,\n",
      "                           solver='svd', store_covariance=False, tol=0.0001)\n",
      "[[ 9  1]\n",
      " [ 2 99]]\n",
      "              precision    recall  f1-score   support\n",
      "\n",
      "      Normal       0.82      0.90      0.86        10\n",
      "       tumor       0.99      0.98      0.99       101\n",
      "\n",
      "    accuracy                           0.97       111\n",
      "   macro avg       0.90      0.94      0.92       111\n",
      "weighted avg       0.97      0.97      0.97       111\n",
      "\n",
      "0.972972972972973\n"
     ]
    }
   ],
   "source": [
    "param = {'solver' : ['svd','lsqr']}\n",
    "lda = LinearDiscriminantAnalysis()\n",
    "\n",
    "# building a basic model\n",
    "lda.fit(X_train, y_train)\n",
    "y_pred = lda.predict(X_test)\n",
    "print(confusion_matrix(y_test,y_pred))\n",
    "print(classification_report(y_test,y_pred))\n",
    "print(accuracy_score(y_test,y_pred))\n",
    "print()\n",
    "\n",
    "\n",
    "# performing grid search analysis of the model\n",
    "grid = GridSearchCV(lda, param)\n",
    "grid.fit(X_train, y_train)\n",
    "print(grid.best_params_)\n",
    "print()\n",
    "print(grid.best_estimator_) \n",
    "y_pred_2 = grid.predict(X_test)\n",
    "print(confusion_matrix(y_test,y_pred_2))\n",
    "print(classification_report(y_test,y_pred_2))\n",
    "print(accuracy_score(y_test,y_pred_2))\n"
   ]
  },
  {
   "cell_type": "markdown",
   "metadata": {},
   "source": [
    "### Model #3: Logistic Regression"
   ]
  },
  {
   "cell_type": "code",
   "execution_count": 11,
   "metadata": {},
   "outputs": [
    {
     "name": "stdout",
     "output_type": "stream",
     "text": [
      "[[ 10   0]\n",
      " [  1 100]]\n",
      "              precision    recall  f1-score   support\n",
      "\n",
      "      Normal       0.91      1.00      0.95        10\n",
      "       tumor       1.00      0.99      1.00       101\n",
      "\n",
      "    accuracy                           0.99       111\n",
      "   macro avg       0.95      1.00      0.97       111\n",
      "weighted avg       0.99      0.99      0.99       111\n",
      "\n",
      "0.990990990990991\n",
      "\n"
     ]
    },
    {
     "name": "stderr",
     "output_type": "stream",
     "text": [
      "/usr/local/lib/python3.6/dist-packages/sklearn/linear_model/_logistic.py:940: ConvergenceWarning: lbfgs failed to converge (status=1):\n",
      "STOP: TOTAL NO. of ITERATIONS REACHED LIMIT.\n",
      "\n",
      "Increase the number of iterations (max_iter) or scale the data as shown in:\n",
      "    https://scikit-learn.org/stable/modules/preprocessing.html\n",
      "Please also refer to the documentation for alternative solver options:\n",
      "    https://scikit-learn.org/stable/modules/linear_model.html#logistic-regression\n",
      "  extra_warning_msg=_LOGISTIC_SOLVER_CONVERGENCE_MSG)\n"
     ]
    }
   ],
   "source": [
    "LR = LogisticRegression()\n",
    "LR.fit(X_train, y_train)\n",
    "y_pred = LR.predict(X_test)\n",
    "print(confusion_matrix(y_test,y_pred))\n",
    "print(classification_report(y_test,y_pred))\n",
    "print(accuracy_score(y_test,y_pred))\n",
    "print()"
   ]
  },
  {
   "cell_type": "markdown",
   "metadata": {},
   "source": [
    "### Model #4: Naive Bayes"
   ]
  },
  {
   "cell_type": "code",
   "execution_count": 12,
   "metadata": {},
   "outputs": [
    {
     "name": "stdout",
     "output_type": "stream",
     "text": [
      "[[  7   3]\n",
      " [  0 101]]\n",
      "              precision    recall  f1-score   support\n",
      "\n",
      "      Normal       1.00      0.70      0.82        10\n",
      "       tumor       0.97      1.00      0.99       101\n",
      "\n",
      "    accuracy                           0.97       111\n",
      "   macro avg       0.99      0.85      0.90       111\n",
      "weighted avg       0.97      0.97      0.97       111\n",
      "\n",
      "0.972972972972973\n",
      "\n"
     ]
    }
   ],
   "source": [
    "NB = GaussianNB()\n",
    "NB.fit(X_train, y_train)\n",
    "y_pred = NB.predict(X_test)\n",
    "print(confusion_matrix(y_test,y_pred))\n",
    "print(classification_report(y_test,y_pred))\n",
    "print(accuracy_score(y_test,y_pred))\n",
    "print()"
   ]
  },
  {
   "cell_type": "code",
   "execution_count": 13,
   "metadata": {},
   "outputs": [
    {
     "name": "stdout",
     "output_type": "stream",
     "text": [
      "Model: GaussianNB\n",
      "Model parameters: GaussianNB(priors=None, var_smoothing=1e-09)\n",
      "confusion matrix\n",
      "[[  7   3]\n",
      " [  0 101]]\n",
      "              precision    recall  f1-score   support\n",
      "\n",
      "      Normal       1.00      0.70      0.82        10\n",
      "       tumor       0.97      1.00      0.99       101\n",
      "\n",
      "    accuracy                           0.97       111\n",
      "   macro avg       0.99      0.85      0.90       111\n",
      "weighted avg       0.97      0.97      0.97       111\n",
      "\n",
      "accuracy score = 0.972972972972973\n",
      "\n"
     ]
    }
   ],
   "source": [
    "try_model(GaussianNB())"
   ]
  },
  {
   "cell_type": "markdown",
   "metadata": {},
   "source": [
    "### Model #5: Decision Tree Classifier"
   ]
  },
  {
   "cell_type": "code",
   "execution_count": 14,
   "metadata": {},
   "outputs": [
    {
     "name": "stdout",
     "output_type": "stream",
     "text": [
      "Model: DecisionTreeClassifier\n",
      "Model parameters: DecisionTreeClassifier(ccp_alpha=0.0, class_weight=None, criterion='gini',\n",
      "                       max_depth=None, max_features=None, max_leaf_nodes=None,\n",
      "                       min_impurity_decrease=0.0, min_impurity_split=None,\n",
      "                       min_samples_leaf=1, min_samples_split=2,\n",
      "                       min_weight_fraction_leaf=0.0, presort='deprecated',\n",
      "                       random_state=None, splitter='best')\n",
      "confusion matrix\n",
      "[[10  0]\n",
      " [ 2 99]]\n",
      "              precision    recall  f1-score   support\n",
      "\n",
      "      Normal       0.83      1.00      0.91        10\n",
      "       tumor       1.00      0.98      0.99       101\n",
      "\n",
      "    accuracy                           0.98       111\n",
      "   macro avg       0.92      0.99      0.95       111\n",
      "weighted avg       0.98      0.98      0.98       111\n",
      "\n",
      "accuracy score = 0.9819819819819819\n",
      "\n"
     ]
    }
   ],
   "source": [
    "try_model(DecisionTreeClassifier())"
   ]
  },
  {
   "cell_type": "code",
   "execution_count": 15,
   "metadata": {},
   "outputs": [
    {
     "name": "stdout",
     "output_type": "stream",
     "text": [
      "[[10  0]\n",
      " [ 2 99]]\n",
      "              precision    recall  f1-score   support\n",
      "\n",
      "      Normal       0.83      1.00      0.91        10\n",
      "       tumor       1.00      0.98      0.99       101\n",
      "\n",
      "    accuracy                           0.98       111\n",
      "   macro avg       0.92      0.99      0.95       111\n",
      "weighted avg       0.98      0.98      0.98       111\n",
      "\n",
      "0.9819819819819819\n",
      "1\n",
      "\n"
     ]
    },
    {
     "data": {
      "text/plain": [
       "[Text(167.4, 163.07999999999998, 'X[13] <= 13.988\\ngini = 0.162\\nsamples = 440\\nvalue = [39, 401]'),\n",
       " Text(83.7, 54.360000000000014, 'gini = 0.0\\nsamples = 401\\nvalue = [0, 401]'),\n",
       " Text(251.10000000000002, 54.360000000000014, 'gini = 0.0\\nsamples = 39\\nvalue = [39, 0]')]"
      ]
     },
     "execution_count": 15,
     "metadata": {},
     "output_type": "execute_result"
    },
    {
     "data": {
      "image/png": "[encoded data removed]",
      "text/plain": [
       "<Figure size 432x288 with 1 Axes>"
      ]
     },
     "metadata": {
      "needs_background": "light"
     },
     "output_type": "display_data"
    }
   ],
   "source": [
    "DTC = DecisionTreeClassifier()\n",
    "dtc = DTC.fit(X_train, y_train)\n",
    "y_pred = dtc.predict(X_test)\n",
    "print(confusion_matrix(y_test,y_pred))\n",
    "print(classification_report(y_test,y_pred))\n",
    "print(accuracy_score(y_test,y_pred))\n",
    "print(dtc.n_outputs_)\n",
    "print()\n",
    "plot_tree(dtc)"
   ]
  },
  {
   "cell_type": "markdown",
   "metadata": {},
   "source": [
    "### Model #6: Perceptron"
   ]
  },
  {
   "cell_type": "code",
   "execution_count": 16,
   "metadata": {},
   "outputs": [
    {
     "data": {
      "text/plain": [
       "0.9981851179673321"
      ]
     },
     "execution_count": 16,
     "metadata": {},
     "output_type": "execute_result"
    }
   ],
   "source": [
    "clf = Perceptron()\n",
    "clf.fit(X, y)\n",
    "clf.score(X, y)"
   ]
  },
  {
   "cell_type": "code",
   "execution_count": 17,
   "metadata": {},
   "outputs": [
    {
     "name": "stdout",
     "output_type": "stream",
     "text": [
      "Model: Perceptron\n",
      "Model parameters: Perceptron(alpha=0.0001, class_weight=None, early_stopping=False, eta0=1.0,\n",
      "           fit_intercept=True, max_iter=1000, n_iter_no_change=5, n_jobs=None,\n",
      "           penalty=None, random_state=0, shuffle=True, tol=0.001,\n",
      "           validation_fraction=0.1, verbose=0, warm_start=False)\n",
      "confusion matrix\n",
      "[[ 10   0]\n",
      " [  1 100]]\n",
      "              precision    recall  f1-score   support\n",
      "\n",
      "      Normal       0.91      1.00      0.95        10\n",
      "       tumor       1.00      0.99      1.00       101\n",
      "\n",
      "    accuracy                           0.99       111\n",
      "   macro avg       0.95      1.00      0.97       111\n",
      "weighted avg       0.99      0.99      0.99       111\n",
      "\n",
      "accuracy score = 0.990990990990991\n",
      "\n"
     ]
    }
   ],
   "source": [
    "try_model(Perceptron())"
   ]
  },
  {
   "cell_type": "code",
   "execution_count": null,
   "metadata": {},
   "outputs": [],
   "source": []
  },
  {
   "cell_type": "code",
   "execution_count": 34,
   "metadata": {},
   "outputs": [
    {
     "name": "stdout",
     "output_type": "stream",
     "text": [
      "{'SVC': 0.990990990990991, 'LinearDiscriminantAnalysis': 0.972972972972973, 'LogisticRegression': 0.990990990990991, 'GaussianNB': 0.972972972972973, 'DecisionTreeClassifier': 0.9819819819819819, 'Perceptron': 0.990990990990991}\n"
     ]
    },
    {
     "name": "stderr",
     "output_type": "stream",
     "text": [
      "/usr/local/lib/python3.6/dist-packages/sklearn/linear_model/_logistic.py:940: ConvergenceWarning: lbfgs failed to converge (status=1):\n",
      "STOP: TOTAL NO. of ITERATIONS REACHED LIMIT.\n",
      "\n",
      "Increase the number of iterations (max_iter) or scale the data as shown in:\n",
      "    https://scikit-learn.org/stable/modules/preprocessing.html\n",
      "Please also refer to the documentation for alternative solver options:\n",
      "    https://scikit-learn.org/stable/modules/linear_model.html#logistic-regression\n",
      "  extra_warning_msg=_LOGISTIC_SOLVER_CONVERGENCE_MSG)\n"
     ]
    }
   ],
   "source": [
    "models = [SVC(kernel='linear'), LinearDiscriminantAnalysis(), LogisticRegression(), GaussianNB(), DecisionTreeClassifier(), Perceptron()]\n",
    "model_results = {}\n",
    "for model in models:\n",
    "    key, val = try_model(model)\n",
    "    model_results[key] = val\n",
    "print(model_results)"
   ]
  },
  {
   "cell_type": "code",
   "execution_count": 51,
   "metadata": {},
   "outputs": [
    {
     "data": {
      "text/html": [
       "<div>\n",
       "<style scoped>\n",
       "    .dataframe tbody tr th:only-of-type {\n",
       "        vertical-align: middle;\n",
       "    }\n",
       "\n",
       "    .dataframe tbody tr th {\n",
       "        vertical-align: top;\n",
       "    }\n",
       "\n",
       "    .dataframe thead th {\n",
       "        text-align: right;\n",
       "    }\n",
       "</style>\n",
       "<table border=\"1\" class=\"dataframe\">\n",
       "  <thead>\n",
       "    <tr style=\"text-align: right;\">\n",
       "      <th></th>\n",
       "      <th>0</th>\n",
       "    </tr>\n",
       "  </thead>\n",
       "  <tbody>\n",
       "    <tr>\n",
       "      <th>SVC</th>\n",
       "      <td>0.990991</td>\n",
       "    </tr>\n",
       "    <tr>\n",
       "      <th>LinearDiscriminantAnalysis</th>\n",
       "      <td>0.972973</td>\n",
       "    </tr>\n",
       "    <tr>\n",
       "      <th>LogisticRegression</th>\n",
       "      <td>0.990991</td>\n",
       "    </tr>\n",
       "    <tr>\n",
       "      <th>GaussianNB</th>\n",
       "      <td>0.972973</td>\n",
       "    </tr>\n",
       "    <tr>\n",
       "      <th>DecisionTreeClassifier</th>\n",
       "      <td>0.981982</td>\n",
       "    </tr>\n",
       "    <tr>\n",
       "      <th>Perceptron</th>\n",
       "      <td>0.990991</td>\n",
       "    </tr>\n",
       "  </tbody>\n",
       "</table>\n",
       "</div>"
      ],
      "text/plain": [
       "                                   0\n",
       "SVC                         0.990991\n",
       "LinearDiscriminantAnalysis  0.972973\n",
       "LogisticRegression          0.990991\n",
       "GaussianNB                  0.972973\n",
       "DecisionTreeClassifier      0.981982\n",
       "Perceptron                  0.990991"
      ]
     },
     "execution_count": 51,
     "metadata": {},
     "output_type": "execute_result"
    }
   ],
   "source": [
    "df2 = pd.DataFrame(list(model_results.values()), list(model_results.keys()))\n",
    "df2.\n",
    "    \n",
    "df2"
   ]
  },
  {
   "cell_type": "markdown",
   "metadata": {},
   "source": [
    "## Results and Discussion"
   ]
  },
  {
   "cell_type": "code",
   "execution_count": null,
   "metadata": {},
   "outputs": [],
   "source": []
  }
 ],
 "metadata": {
  "kernelspec": {
   "display_name": "Python 3",
   "language": "python",
   "name": "python3"
  },
  "language_info": {
   "codemirror_mode": {
    "name": "ipython",
    "version": 3
   },
   "file_extension": ".py",
   "mimetype": "text/x-python",
   "name": "python",
   "nbconvert_exporter": "python",
   "pygments_lexer": "ipython3",
   "version": "3.6.9"
  }
 },
 "nbformat": 4,
 "nbformat_minor": 2
}
