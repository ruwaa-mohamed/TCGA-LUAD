{
 "cells": [
  {
   "cell_type": "markdown",
   "metadata": {},
   "source": [
    "# <center>TCGA-LUAD</center>\n",
    "<center>CIT-651 Machine Learning - Fall 2019 - Nile University</center>\n",
    "\n",
    "<center>Manar Rashad, Mariam Aouda, Nourelislam Mohamed, Ruwaa Mohamed.</center>\n",
    "<center>18270084, 1910392, 1910264, 1910442</center>"
   ]
  },
  {
   "cell_type": "markdown",
   "metadata": {},
   "source": [
    "## Abstract "
   ]
  },
  {
   "cell_type": "markdown",
   "metadata": {},
   "source": [
    "Lung cancer (LC) is one of the most frequent malignancies worldwide and the most common cause of global cancer-associated mortality in which the five‑year survival rate for it is very low [1]. This may be attributed to the lack of effective therapeutic methods and the difficulty in early diagnosis, so the identification of differentially expressed genes (DEGs) in lung cancer samples would help to understand the mechanism behind it. DEGs can be determined through statistical methods via sequencing data analysis or certain machine learning (ML) models. In this project, DEGs were obtained through ML-based method (Gini Index [2]) compared with the DEGs obtained by the state-of-art statistical RNA-seq data analysis method [DESeq2] and depending on that some models were built to use these DEGs in diagnosing lung squamous cell carcinoma (LUSC). The results showed that the DEGs of DESeq2 were better than the Gini index DEGs and the best model used to differentiate between LUSC and normal samples was random forest. "
   ]
  },
  {
   "cell_type": "markdown",
   "metadata": {},
   "source": [
    "## Main Code"
   ]
  },
  {
   "cell_type": "markdown",
   "metadata": {},
   "source": [
    "#### Importing Required Libraries"
   ]
  },
  {
   "cell_type": "code",
   "execution_count": 1,
   "metadata": {},
   "outputs": [],
   "source": [
    "# Importing Required Libraries\n",
    "import numpy as np\n",
    "import pandas as pd\n",
    "import matplotlib.pyplot as plt\n",
    "%matplotlib inline\n",
    "from textwrap import wrap\n",
    "\n",
    "# for data preparation and others\n",
    "from sklearn.model_selection import train_test_split, GridSearchCV\n",
    "from sklearn.metrics import classification_report, confusion_matrix, accuracy_score\n",
    "from sklearn.decomposition import PCA\n",
    "\n",
    "# models tried\n",
    "from sklearn.svm import SVC\n",
    "from sklearn.discriminant_analysis import LinearDiscriminantAnalysis\n",
    "from sklearn.linear_model import LogisticRegression\n",
    "from sklearn.naive_bayes import GaussianNB\n",
    "from sklearn.tree import DecisionTreeClassifier, plot_tree\n",
    "from sklearn.linear_model import Perceptron"
   ]
  },
  {
   "cell_type": "markdown",
   "metadata": {},
   "source": [
    "### Identifying DEGs with Gini Index\n",
    "This Python Notebook was used to detect the DEGs based on Gini index (the crterion used in decision trees) <a href='TCGA-LUAD-DEGs.ipynb'>Gini Index DEGs</a>"
   ]
  },
  {
   "cell_type": "markdown",
   "metadata": {},
   "source": [
    "### Identifying the DEGs with DESeq2 Package in R\n",
    "1. The whole dataset which in separate files in (<a href='final/RNA/'>RNA Directory</a> file) and the <a href='final/RNA.tsv'>sample sheet</a> were openned in R then the <a href=''>Feature selection</a> script was used for applying DESeq2 for identifying the DEGs. <br>\n",
    "\n",
    "2. To prepare data for ML models, <a href='final/prepare_data_to_get_labels.R'>prepare_data_to_get_labels.R</a> was used.\n",
    "    \n",
    "3. The output was saved in <a href='final/processed_squamous_done.txt'>\"final/processed_squamous_done.txt\"</a>. This file contains 454 DEGs in 551 samples."
   ]
  },
  {
   "cell_type": "markdown",
   "metadata": {},
   "source": [
    "#### Importing Dataset (454 DESeq2 DEGs; 551 Samples) and Preparation"
   ]
  },
  {
   "cell_type": "code",
   "execution_count": 2,
   "metadata": {},
   "outputs": [],
   "source": [
    "# Opening the dataset\n",
    "df = pd.read_table(\"final/processed_squamous_done.txt\", sep=\" \")\n",
    "y = df.label\n",
    "X = df.drop('label', axis=1) #iloc[:,list(range(df.shape[1]-1))]\n",
    "# features in columns and samples in rows."
   ]
  },
  {
   "cell_type": "code",
   "execution_count": 3,
   "metadata": {},
   "outputs": [
    {
     "name": "stdout",
     "output_type": "stream",
     "text": [
      "(551, 455)\n",
      "(551, 454)\n",
      "(551,)\n"
     ]
    },
    {
     "data": {
      "text/plain": [
       "count       551\n",
       "unique        2\n",
       "top       tumor\n",
       "freq        502\n",
       "Name: label, dtype: object"
      ]
     },
     "execution_count": 3,
     "metadata": {},
     "output_type": "execute_result"
    }
   ],
   "source": [
    "print(df.shape)\n",
    "print(X.shape)\n",
    "print(y.shape)\n",
    "y.describe()"
   ]
  },
  {
   "cell_type": "code",
   "execution_count": 4,
   "metadata": {},
   "outputs": [
    {
     "name": "stdout",
     "output_type": "stream",
     "text": [
      "Index(['ABCA4', 'ABCB4', 'ABCC2', 'ACSL6', 'ACTL8', 'ADAMTS18', 'ADAMTS6',\n",
      "       'ADAMTS8', 'ADAMTS9-AS1', 'ADCYAP1R1',\n",
      "       ...\n",
      "       'VSX1', 'WIF1', 'XKR4', 'XKRX', 'ZBTB16', 'ZC3H12D', 'ZFHX4-AS1',\n",
      "       'ZFR2', 'ZNF536', 'ZNF560'],\n",
      "      dtype='object', length=454)\n"
     ]
    }
   ],
   "source": [
    "print(X.columns)"
   ]
  },
  {
   "cell_type": "code",
   "execution_count": 5,
   "metadata": {},
   "outputs": [
    {
     "name": "stdout",
     "output_type": "stream",
     "text": [
      "(330, 454)\n",
      "(330,)\n",
      "(221, 454)\n",
      "(221,)\n"
     ]
    }
   ],
   "source": [
    "# splitting the dataset\n",
    "X_train, X_test, y_train, y_test = train_test_split(X, y, test_size=0.40, random_state=42, stratify=y)\n",
    "print(X_train.shape)\n",
    "print(y_train.shape)\n",
    "print(X_test.shape)\n",
    "print(y_test.shape)\n"
   ]
  },
  {
   "cell_type": "code",
   "execution_count": 6,
   "metadata": {
    "scrolled": true
   },
   "outputs": [
    {
     "data": {
      "image/png": "[encoded data removed]",
      "text/plain": [
       "<Figure size 432x288 with 1 Axes>"
      ]
     },
     "metadata": {
      "needs_background": "light"
     },
     "output_type": "display_data"
    }
   ],
   "source": [
    "pca = PCA(n_components=2)\n",
    "X_pca = pca.fit_transform(X)\n",
    "# plt.scatter(X_pca[:,0],X_pca[:,1])\n",
    "\n",
    "df2 = pd.DataFrame(dict(x=X_pca[:,0], y=X_pca[:,1], label=y))\n",
    "\n",
    "groups = df2.groupby('label')\n",
    "\n",
    "# Plot\n",
    "fig, ax = plt.subplots()\n",
    "ax.margins(0.05)\n",
    "for name, group in groups:\n",
    "    ax.plot(group.x, group.y, marker='.', linestyle='', ms=12, label=name)\n",
    "ax.legend()\n",
    "plt.title('Dimesionality Reduction of 454 DEGs to 2 DEGs using PCA')\n",
    "plt.xlabel('PCA1')\n",
    "plt.ylabel('PCA2')\n",
    "plt.savefig('PCA_DESeq2.png')\n",
    "plt.show()"
   ]
  },
  {
   "cell_type": "markdown",
   "metadata": {},
   "source": [
    "#### Generalized Function for Model Trian-Predict-Score"
   ]
  },
  {
   "cell_type": "code",
   "execution_count": 7,
   "metadata": {},
   "outputs": [],
   "source": [
    "def try_model(model):\n",
    "    clf_model = model\n",
    "    clf_model.fit(X_train, y_train)\n",
    "    y_pred = clf_model.predict(X_test)\n",
    "#     print('Model:', str(model).split('(')[0])\n",
    "#     print('Model parameters:', str(model))\n",
    "#     print('confusion matrix', confusion_matrix(y_test,y_pred), sep='\\n')\n",
    "#     print(classification_report(y_test,y_pred))\n",
    "#     print('accuracy score =', accuracy_score(y_test,y_pred))\n",
    "#     print()\n",
    "    return (str(model).split('(')[0], round(accuracy_score(y_test,y_pred), 2))"
   ]
  },
  {
   "cell_type": "markdown",
   "metadata": {},
   "source": [
    "### Model #1: SVM"
   ]
  },
  {
   "cell_type": "code",
   "execution_count": 8,
   "metadata": {},
   "outputs": [
    {
     "name": "stdout",
     "output_type": "stream",
     "text": [
      "[[ 19   1]\n",
      " [  1 200]]\n",
      "              precision    recall  f1-score   support\n",
      "\n",
      "      Normal       0.95      0.95      0.95        20\n",
      "       tumor       1.00      1.00      1.00       201\n",
      "\n",
      "    accuracy                           0.99       221\n",
      "   macro avg       0.97      0.97      0.97       221\n",
      "weighted avg       0.99      0.99      0.99       221\n",
      "\n",
      "0.9909502262443439\n"
     ]
    }
   ],
   "source": [
    "# SVM model (building the model [Linear])\n",
    "svclassifier = SVC(kernel='linear')\n",
    "svclassifier.fit(X_train, y_train)\n",
    "# testing the model\n",
    "y_pred = svclassifier.predict(X_test)\n",
    "print(confusion_matrix(y_test,y_pred))\n",
    "print(classification_report(y_test,y_pred))\n",
    "print(accuracy_score(y_test,y_pred))"
   ]
  },
  {
   "cell_type": "code",
   "execution_count": 9,
   "metadata": {
    "scrolled": true
   },
   "outputs": [
    {
     "name": "stdout",
     "output_type": "stream",
     "text": [
      "{'C': 0.1, 'gamma': 1, 'kernel': 'linear'}\n",
      "\n",
      "SVC(C=0.1, break_ties=False, cache_size=200, class_weight=None, coef0=0.0,\n",
      "    decision_function_shape='ovr', degree=3, gamma=1, kernel='linear',\n",
      "    max_iter=-1, probability=False, random_state=None, shrinking=True,\n",
      "    tol=0.001, verbose=False)\n",
      "[[ 19   1]\n",
      " [  1 200]]\n",
      "              precision    recall  f1-score   support\n",
      "\n",
      "      Normal       0.95      0.95      0.95        20\n",
      "       tumor       1.00      1.00      1.00       201\n",
      "\n",
      "    accuracy                           0.99       221\n",
      "   macro avg       0.97      0.97      0.97       221\n",
      "weighted avg       0.99      0.99      0.99       221\n",
      "\n",
      "0.9909502262443439\n"
     ]
    }
   ],
   "source": [
    "# GridSearch\n",
    "parameters = {'C': [0.1, 1, 10, 100, 1000], \n",
    "              'gamma': [1, 0.1, 0.01, 0.001, 0.0001], \n",
    "              'kernel': ['linear', 'poly', 'rbf', 'sigmoid']} \n",
    "# {'kernel':('linear', 'rbf'), 'C':[1, 10]}\n",
    "\n",
    "grid = GridSearchCV(svclassifier, parameters)\n",
    "grid.fit(X_train, y_train)\n",
    "print(grid.best_params_)\n",
    "print()\n",
    "print(grid.best_estimator_) \n",
    "y_pred_2 = grid.predict(X_test)\n",
    "print(confusion_matrix(y_test,y_pred_2))\n",
    "print(classification_report(y_test,y_pred_2))\n",
    "print(accuracy_score(y_test,y_pred_2))"
   ]
  },
  {
   "cell_type": "code",
   "execution_count": 10,
   "metadata": {
    "scrolled": true
   },
   "outputs": [],
   "source": [
    "# No. of features vs. accuracy\n",
    "acc_list = []\n",
    "for i in range(1, df.shape[1]-1):\n",
    "    X = df.iloc[:,list(range(i))]\n",
    "    X_train, X_test, y_train, y_test = train_test_split(X, y, test_size=0.40, random_state=42, stratify=y)\n",
    "    svc = SVC(kernel='linear')\n",
    "    svc.fit(X_train, y_train)\n",
    "    y_pred = svc.predict(X_test)\n",
    "    acc_list.append(accuracy_score(y_test,y_pred))\n"
   ]
  },
  {
   "cell_type": "code",
   "execution_count": 11,
   "metadata": {},
   "outputs": [
    {
     "data": {
      "image/png": "[encoded data removed]",
      "text/plain": [
       "<Figure size 432x288 with 1 Axes>"
      ]
     },
     "metadata": {
      "needs_background": "light"
     },
     "output_type": "display_data"
    }
   ],
   "source": [
    "plt.plot(acc_list)\n",
    "plt.title('\\n'.join(wrap('Relation Between the Number of Features (DESeq2 DEGs) and Model Accuracy in SVM model.', 60)))\n",
    "plt.xlabel('Number of DESeq2 DEGs Used')\n",
    "plt.ylabel('SVM Model Accuracy')\n",
    "plt.savefig('DEGsRSVM')\n",
    "plt.show()"
   ]
  },
  {
   "cell_type": "markdown",
   "metadata": {},
   "source": [
    "### Model #2: Linear Discriminant Analysis"
   ]
  },
  {
   "cell_type": "markdown",
   "metadata": {},
   "source": [
    "LDA was first performed using R. Run this script to re-build the model <a href='final/NBLDA.r'>NB-LDA R model</a>."
   ]
  },
  {
   "cell_type": "code",
   "execution_count": 12,
   "metadata": {},
   "outputs": [
    {
     "name": "stdout",
     "output_type": "stream",
     "text": [
      "[[ 21   4]\n",
      " [ 10 186]]\n",
      "              precision    recall  f1-score   support\n",
      "\n",
      "      Normal       0.68      0.84      0.75        25\n",
      "       tumor       0.98      0.95      0.96       196\n",
      "\n",
      "    accuracy                           0.94       221\n",
      "   macro avg       0.83      0.89      0.86       221\n",
      "weighted avg       0.94      0.94      0.94       221\n",
      "\n",
      "0.9366515837104072\n",
      "\n",
      "{'solver': 'svd'}\n",
      "\n",
      "LinearDiscriminantAnalysis(n_components=None, priors=None, shrinkage=None,\n",
      "                           solver='svd', store_covariance=False, tol=0.0001)\n",
      "[[ 21   4]\n",
      " [ 10 186]]\n",
      "              precision    recall  f1-score   support\n",
      "\n",
      "      Normal       0.68      0.84      0.75        25\n",
      "       tumor       0.98      0.95      0.96       196\n",
      "\n",
      "    accuracy                           0.94       221\n",
      "   macro avg       0.83      0.89      0.86       221\n",
      "weighted avg       0.94      0.94      0.94       221\n",
      "\n",
      "0.9366515837104072\n"
     ]
    }
   ],
   "source": [
    "param = {'solver' : ['svd','lsqr']}\n",
    "lda = LinearDiscriminantAnalysis()\n",
    "\n",
    "# building a basic model\n",
    "lda.fit(X_train, y_train)\n",
    "y_pred = lda.predict(X_test)\n",
    "print(confusion_matrix(y_test,y_pred))\n",
    "print(classification_report(y_test,y_pred))\n",
    "print(accuracy_score(y_test,y_pred))\n",
    "print()\n",
    "\n",
    "\n",
    "# performing grid search analysis of the model\n",
    "grid = GridSearchCV(lda, param)\n",
    "grid.fit(X_train, y_train)\n",
    "print(grid.best_params_)\n",
    "print()\n",
    "print(grid.best_estimator_) \n",
    "y_pred_2 = grid.predict(X_test)\n",
    "print(confusion_matrix(y_test,y_pred_2))\n",
    "print(classification_report(y_test,y_pred_2))\n",
    "print(accuracy_score(y_test,y_pred_2))\n"
   ]
  },
  {
   "cell_type": "markdown",
   "metadata": {},
   "source": [
    "### Model #3: Logistic Regression"
   ]
  },
  {
   "cell_type": "code",
   "execution_count": 13,
   "metadata": {},
   "outputs": [
    {
     "name": "stdout",
     "output_type": "stream",
     "text": [
      "[[ 25   0]\n",
      " [  3 193]]\n",
      "              precision    recall  f1-score   support\n",
      "\n",
      "      Normal       0.89      1.00      0.94        25\n",
      "       tumor       1.00      0.98      0.99       196\n",
      "\n",
      "    accuracy                           0.99       221\n",
      "   macro avg       0.95      0.99      0.97       221\n",
      "weighted avg       0.99      0.99      0.99       221\n",
      "\n",
      "0.9864253393665159\n",
      "\n"
     ]
    }
   ],
   "source": [
    "LR = LogisticRegression()\n",
    "LR.fit(X_train, y_train)\n",
    "y_pred = LR.predict(X_test)\n",
    "print(confusion_matrix(y_test,y_pred))\n",
    "print(classification_report(y_test,y_pred))\n",
    "print(accuracy_score(y_test,y_pred))\n",
    "print()"
   ]
  },
  {
   "cell_type": "markdown",
   "metadata": {},
   "source": [
    "### Model #4: Naive Bayes"
   ]
  },
  {
   "cell_type": "code",
   "execution_count": 14,
   "metadata": {},
   "outputs": [
    {
     "name": "stdout",
     "output_type": "stream",
     "text": [
      "[[ 24   1]\n",
      " [  6 190]]\n",
      "              precision    recall  f1-score   support\n",
      "\n",
      "      Normal       0.80      0.96      0.87        25\n",
      "       tumor       0.99      0.97      0.98       196\n",
      "\n",
      "    accuracy                           0.97       221\n",
      "   macro avg       0.90      0.96      0.93       221\n",
      "weighted avg       0.97      0.97      0.97       221\n",
      "\n",
      "0.9683257918552036\n",
      "\n"
     ]
    }
   ],
   "source": [
    "NB = GaussianNB()\n",
    "NB.fit(X_train, y_train)\n",
    "y_pred = NB.predict(X_test)\n",
    "print(confusion_matrix(y_test,y_pred))\n",
    "print(classification_report(y_test,y_pred))\n",
    "print(accuracy_score(y_test,y_pred))\n",
    "print()"
   ]
  },
  {
   "cell_type": "markdown",
   "metadata": {},
   "source": [
    "### Model #5: Decision Tree Classifier"
   ]
  },
  {
   "cell_type": "code",
   "execution_count": 15,
   "metadata": {},
   "outputs": [
    {
     "name": "stdout",
     "output_type": "stream",
     "text": [
      "[[ 24   1]\n",
      " [  2 194]]\n",
      "              precision    recall  f1-score   support\n",
      "\n",
      "      Normal       0.92      0.96      0.94        25\n",
      "       tumor       0.99      0.99      0.99       196\n",
      "\n",
      "    accuracy                           0.99       221\n",
      "   macro avg       0.96      0.97      0.97       221\n",
      "weighted avg       0.99      0.99      0.99       221\n",
      "\n",
      "0.9864253393665159\n",
      "1\n",
      "\n"
     ]
    },
    {
     "data": {
      "text/plain": [
       "[Text(167.4, 163.07999999999998, 'X[363] <= 357165.5\\ngini = 0.135\\nsamples = 330\\nvalue = [24, 306]'),\n",
       " Text(83.7, 54.360000000000014, 'gini = 0.0\\nsamples = 306\\nvalue = [0, 306]'),\n",
       " Text(251.10000000000002, 54.360000000000014, 'gini = 0.0\\nsamples = 24\\nvalue = [24, 0]')]"
      ]
     },
     "execution_count": 15,
     "metadata": {},
     "output_type": "execute_result"
    },
    {
     "data": {
      "image/png": "[encoded data removed]",
      "text/plain": [
       "<Figure size 432x288 with 1 Axes>"
      ]
     },
     "metadata": {
      "needs_background": "light"
     },
     "output_type": "display_data"
    }
   ],
   "source": [
    "DTC = DecisionTreeClassifier()\n",
    "dtc = DTC.fit(X_train, y_train)\n",
    "y_pred = dtc.predict(X_test)\n",
    "print(confusion_matrix(y_test,y_pred))\n",
    "print(classification_report(y_test,y_pred))\n",
    "print(accuracy_score(y_test,y_pred))\n",
    "print(dtc.n_outputs_)\n",
    "print()\n",
    "plot_tree(dtc)"
   ]
  },
  {
   "cell_type": "code",
   "execution_count": 16,
   "metadata": {},
   "outputs": [],
   "source": [
    "nn = np.array(dtc.feature_importances_, dtype=bool)"
   ]
  },
  {
   "cell_type": "code",
   "execution_count": 17,
   "metadata": {},
   "outputs": [
    {
     "data": {
      "text/plain": [
       "Index(['SFTPC'], dtype='object')"
      ]
     },
     "execution_count": 17,
     "metadata": {},
     "output_type": "execute_result"
    }
   ],
   "source": [
    "X.columns[nn]"
   ]
  },
  {
   "cell_type": "code",
   "execution_count": 18,
   "metadata": {},
   "outputs": [
    {
     "data": {
      "text/plain": [
       "1"
      ]
     },
     "execution_count": 18,
     "metadata": {},
     "output_type": "execute_result"
    }
   ],
   "source": [
    "dtc.get_depth()"
   ]
  },
  {
   "cell_type": "code",
   "execution_count": 19,
   "metadata": {},
   "outputs": [
    {
     "name": "stdout",
     "output_type": "stream",
     "text": [
      "[[ 25   0]\n",
      " [  5 191]]\n",
      "              precision    recall  f1-score   support\n",
      "\n",
      "      Normal       0.83      1.00      0.91        25\n",
      "       tumor       1.00      0.97      0.99       196\n",
      "\n",
      "    accuracy                           0.98       221\n",
      "   macro avg       0.92      0.99      0.95       221\n",
      "weighted avg       0.98      0.98      0.98       221\n",
      "\n",
      "0.9773755656108597\n",
      "1\n",
      "\n"
     ]
    },
    {
     "data": {
      "text/plain": [
       "[Text(167.4, 163.07999999999998, 'X[407] <= 916.0\\nentropy = 0.376\\nsamples = 330\\nvalue = [24, 306]'),\n",
       " Text(83.7, 54.360000000000014, 'entropy = 0.0\\nsamples = 306\\nvalue = [0, 306]'),\n",
       " Text(251.10000000000002, 54.360000000000014, 'entropy = 0.0\\nsamples = 24\\nvalue = [24, 0]')]"
      ]
     },
     "execution_count": 19,
     "metadata": {},
     "output_type": "execute_result"
    },
    {
     "data": {
      "image/png": "[encoded data removed]",
      "text/plain": [
       "<Figure size 432x288 with 1 Axes>"
      ]
     },
     "metadata": {
      "needs_background": "light"
     },
     "output_type": "display_data"
    }
   ],
   "source": [
    "# information gain\n",
    "DTC2 = DecisionTreeClassifier(criterion='entropy')\n",
    "dtc2 = DTC2.fit(X_train, y_train)\n",
    "y_pred = dtc2.predict(X_test)\n",
    "print(confusion_matrix(y_test,y_pred))\n",
    "print(classification_report(y_test,y_pred))\n",
    "print(accuracy_score(y_test,y_pred))\n",
    "print(dtc2.n_outputs_)\n",
    "print()\n",
    "plot_tree(dtc2)"
   ]
  },
  {
   "cell_type": "markdown",
   "metadata": {},
   "source": [
    "### Model #6: Perceptron"
   ]
  },
  {
   "cell_type": "code",
   "execution_count": 20,
   "metadata": {},
   "outputs": [
    {
     "data": {
      "text/plain": [
       "0.9927404718693285"
      ]
     },
     "execution_count": 20,
     "metadata": {},
     "output_type": "execute_result"
    }
   ],
   "source": [
    "clf = Perceptron()\n",
    "clf.fit(X, y)\n",
    "clf.score(X, y)"
   ]
  },
  {
   "cell_type": "markdown",
   "metadata": {},
   "source": [
    "### Model #7: Random Forest\n",
    "This Python Notebook was used for RF >> <a href='Random_forest.ipynb'>Random Forst Classifier</a>."
   ]
  },
  {
   "cell_type": "markdown",
   "metadata": {},
   "source": [
    "### All Models Accuracy Table"
   ]
  },
  {
   "cell_type": "code",
   "execution_count": 21,
   "metadata": {},
   "outputs": [
    {
     "name": "stdout",
     "output_type": "stream",
     "text": [
      "{'SVC': 0.98, 'LinearDiscriminantAnalysis': 0.94, 'GaussianNB': 0.97, 'DecisionTreeClassifier': 0.96, 'Perceptron': 0.93}\n"
     ]
    }
   ],
   "source": [
    "models = [SVC(kernel='linear'), LinearDiscriminantAnalysis(), GaussianNB(), DecisionTreeClassifier(), Perceptron()]\n",
    "model_results = {}\n",
    "for model in models:\n",
    "    key, val = try_model(model)\n",
    "    model_results[key] = val\n",
    "print(model_results)"
   ]
  },
  {
   "cell_type": "code",
   "execution_count": 22,
   "metadata": {},
   "outputs": [
    {
     "data": {
      "text/html": [
       "<div>\n",
       "<style scoped>\n",
       "    .dataframe tbody tr th:only-of-type {\n",
       "        vertical-align: middle;\n",
       "    }\n",
       "\n",
       "    .dataframe tbody tr th {\n",
       "        vertical-align: top;\n",
       "    }\n",
       "\n",
       "    .dataframe thead th {\n",
       "        text-align: right;\n",
       "    }\n",
       "</style>\n",
       "<table border=\"1\" class=\"dataframe\">\n",
       "  <thead>\n",
       "    <tr style=\"text-align: right;\">\n",
       "      <th></th>\n",
       "      <th>Accuracy</th>\n",
       "    </tr>\n",
       "  </thead>\n",
       "  <tbody>\n",
       "    <tr>\n",
       "      <th>SVC</th>\n",
       "      <td>0.98</td>\n",
       "    </tr>\n",
       "    <tr>\n",
       "      <th>LinearDiscriminantAnalysis</th>\n",
       "      <td>0.94</td>\n",
       "    </tr>\n",
       "    <tr>\n",
       "      <th>GaussianNB</th>\n",
       "      <td>0.97</td>\n",
       "    </tr>\n",
       "    <tr>\n",
       "      <th>DecisionTreeClassifier</th>\n",
       "      <td>0.96</td>\n",
       "    </tr>\n",
       "    <tr>\n",
       "      <th>Perceptron</th>\n",
       "      <td>0.93</td>\n",
       "    </tr>\n",
       "    <tr>\n",
       "      <th>RandomForest</th>\n",
       "      <td>1.00</td>\n",
       "    </tr>\n",
       "    <tr>\n",
       "      <th>NB-LDA</th>\n",
       "      <td>0.97</td>\n",
       "    </tr>\n",
       "  </tbody>\n",
       "</table>\n",
       "</div>"
      ],
      "text/plain": [
       "                            Accuracy\n",
       "SVC                             0.98\n",
       "LinearDiscriminantAnalysis      0.94\n",
       "GaussianNB                      0.97\n",
       "DecisionTreeClassifier          0.96\n",
       "Perceptron                      0.93\n",
       "RandomForest                    1.00\n",
       "NB-LDA                          0.97"
      ]
     },
     "execution_count": 22,
     "metadata": {},
     "output_type": "execute_result"
    }
   ],
   "source": [
    "model_results[\"RandomForest\"] = 1.0\n",
    "model_results[\"NB-LDA\"] = 0.97\n",
    "df2 = pd.DataFrame(list(model_results.values()), list(model_results.keys()))\n",
    "df2.columns = [\"Accuracy\"]   \n",
    "df2"
   ]
  },
  {
   "cell_type": "markdown",
   "metadata": {},
   "source": [
    "## Results and Discussion"
   ]
  },
  {
   "cell_type": "markdown",
   "metadata": {},
   "source": [
    "The aim of this project was to (1) identify the genes (features) whose expression values best differentiates between lung squamous carcinoma (LUSC) and normal lung cells: the differentially expressed genes (DEGs), and (2) identify the best ML model that can be used to classify LUSC vs. mormal cells based on those models.\n",
    "\n",
    "For identifying the DEGs, DEGS identified via DESeq2 algorithm (Script in R) showed better behavior than the DEGs identified by Gini index (the criterion used in decision trees) as shown in the line graphs of both.\n",
    "\n",
    "For the machine learning model, a comparison between the models is shown in the above cell. Both random forest and\n",
    "support vector machine (SVM) with linear classifying boundary showed the best behavior with accuracy of 99.55% and 99.10%, respectively. This is consistent with the PCA figures plotted before.\n",
    "\n"
   ]
  }
 ],
 "metadata": {
  "kernelspec": {
   "display_name": "Python 3",
   "language": "python",
   "name": "python3"
  },
  "language_info": {
   "codemirror_mode": {
    "name": "ipython",
    "version": 3
   },
   "file_extension": ".py",
   "mimetype": "text/x-python",
   "name": "python",
   "nbconvert_exporter": "python",
   "pygments_lexer": "ipython3",
   "version": "3.6.9"
  }
 },
 "nbformat": 4,
 "nbformat_minor": 2
}
